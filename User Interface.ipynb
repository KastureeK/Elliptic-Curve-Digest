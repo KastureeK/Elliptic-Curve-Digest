{
 "cells": [
  {
   "cell_type": "code",
   "execution_count": null,
   "id": "a9306927",
   "metadata": {},
   "outputs": [],
   "source": [
    "from tkinter import *\n",
    "from calc import ellipticcurvehash as ec\n",
    "\n",
    "class gui:\n",
    "def __init__(self,master):\n",
    "self.master = master\n",
    "self.framei = Frame(master)\n",
    "self.framei.pack()\n",
    "self.inputmsg = Label(self.framei, text=\"Please Enter The Message\",\n",
    "font=(\"Helvetica\", 14))\n",
    "self.namevar = StringVar()\n",
    "self.entry = Text(self.framei,font=(\"Helvetica\", 14), width=90, height=10)\n",
    "self.button = Button(self.framei, text=\"Submit\", command=self.findhash1,\n",
    "font=(\"Helvetica\", 14))\n",
    "self.inputmsg.grid(row=0, pady=15)\n",
    "self.entry.grid(row=1, pady=15)\n",
    "self.button.grid(row=1,column=2)\n",
    "self.entry.bind(\"<Return>\", self.findhash1)\n",
    "self.outhash = Label(self.framei, text=\"The Message Fingerprint\", font=(\"Helvetica\",\n",
    "14))\n",
    "self.hashvar = StringVar()\n",
    "self.op = Entry(self.framei, textvariable=self.hashvar, width=70,font=(\"Helvetica\",\n",
    "14),state='readonly')\n",
    "self.hashvar.set(\"\")\n",
    "self.outhash.grid(row=2, pady=15)\n",
    "self.op.grid(row=3, pady=15)\n",
    "\n",
    "def findhash1(self, *args):\n",
    "self.msg = self.entry.get(\"1.0\",'end-1c')\n",
    "self.object = ec.hashfind()\n",
    "self.hashvar.set(self.object.findhash(self.msg))\n",
    "\n",
    "if __name__==\"__main__\":\n",
    "root=Tk()\n",
    "ob=gui(root)\n",
    "root.title(\"Elliptic Curve Hash Generator\")\n",
    "root.mainloop()"
   ]
  }
 ],
 "metadata": {
  "kernelspec": {
   "display_name": "Python 3",
   "language": "python",
   "name": "python3"
  },
  "language_info": {
   "codemirror_mode": {
    "name": "ipython",
    "version": 3
   },
   "file_extension": ".py",
   "mimetype": "text/x-python",
   "name": "python",
   "nbconvert_exporter": "python",
   "pygments_lexer": "ipython3",
   "version": "3.6.13"
  }
 },
 "nbformat": 4,
 "nbformat_minor": 5
}
